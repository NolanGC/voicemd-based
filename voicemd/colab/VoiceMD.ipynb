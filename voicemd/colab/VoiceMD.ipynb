{
  "nbformat": 4,
  "nbformat_minor": 0,
  "metadata": {
    "colab": {
      "name": "VoiceMD.ipynb",
      "provenance": [],
      "collapsed_sections": []
    },
    "kernelspec": {
      "name": "python3",
      "display_name": "Python 3"
    },
    "accelerator": "GPU"
  },
  "cells": [
    {
      "cell_type": "markdown",
      "metadata": {
        "id": "t4zC3-IJCcEK",
        "colab_type": "text"
      },
      "source": [
        "# Welcome to VoiceMD\n",
        "*This notebook Notebook settings Runtime > Change Runtime Type > Hardware accelerator > GPU*\n",
        "\n"
      ]
    },
    {
      "cell_type": "markdown",
      "metadata": {
        "id": "_ZbXSzAvjcKl",
        "colab_type": "text"
      },
      "source": [
        "# 1. Initialize your workstation.\n",
        "\n"
      ]
    },
    {
      "cell_type": "code",
      "metadata": {
        "id": "1dPVD8Mrc0h7",
        "colab_type": "code",
        "cellView": "form",
        "outputId": "60602ed1-b534-41e2-f61f-fcc886666641",
        "colab": {
          "base_uri": "https://localhost:8080/",
          "height": 51
        }
      },
      "source": [
        "import os\n",
        "import ipywidgets as widgets\n",
        "from IPython.display import display\n",
        "\n",
        "task = 'initialization' #@param [\"initialization\"]\n",
        "print('initializing...')\n",
        "\n",
        "os.system('pip install -U PyYAML')\n",
        "os.system('git clone https://github.com/jerpint/voicemd.git')\n",
        "os.system(\"pip install -e './voicemd'\")\n",
        "os.system('curl -L -o voicemd/model.pt \"https://www.dropbox.com/s/9evx5a31485l16c/densenet121-a639ec97.pth?dl=1\"')\n",
        "print('done!')\n"
      ],
      "execution_count": 1,
      "outputs": [
        {
          "output_type": "stream",
          "text": [
            "launching setup...\n",
            "done!\n"
          ],
          "name": "stdout"
        }
      ]
    },
    {
      "cell_type": "markdown",
      "metadata": {
        "id": "7c8lt95UjluH",
        "colab_type": "text"
      },
      "source": [
        "# 2. Upload your audio file(s)\n",
        "\n"
      ]
    },
    {
      "cell_type": "markdown",
      "metadata": {
        "id": "3kwDAd6enEu4",
        "colab_type": "text"
      },
      "source": [
        "1.   Click on the folder icon located on the left side-bar.\n",
        "2.   Drag-and-drop your audio tracks anywhere in the empty panel space."
      ]
    },
    {
      "cell_type": "markdown",
      "metadata": {
        "id": "cuJlxDnejyZ9",
        "colab_type": "text"
      },
      "source": [
        "# 3. Analyze voice(s)"
      ]
    },
    {
      "cell_type": "code",
      "metadata": {
        "id": "J1uEDTAzd3Ie",
        "colab_type": "code",
        "cellView": "form",
        "outputId": "0678f0e3-0700-4365-be8d-72a806d82210",
        "colab": {
          "base_uri": "https://localhost:8080/",
          "height": 102
        }
      },
      "source": [
        "import shutil \n",
        "task = 'analysis' #@param [\"analysis\"]\n",
        "!python /content/voicemd/voicemd/colab/prediction.py\n"
      ],
      "execution_count": 31,
      "outputs": [
        {
          "output_type": "stream",
          "text": [
            "Analyzing BL01.wav...\n",
            "100% 66/66 [00:00<00:00, 93.57it/s]\n",
            "BL01.wav probability to be a male's voice: 75.9%\n",
            "BL01.wav probability to be a female's voice: 24.1%\n",
            "\n"
          ],
          "name": "stdout"
        }
      ]
    }
  ]
}